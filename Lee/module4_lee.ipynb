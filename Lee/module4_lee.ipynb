{
 "cells": [
  {
   "cell_type": "code",
   "execution_count": 4,
   "id": "822ea4f9",
   "metadata": {
    "scrolled": true
   },
   "outputs": [],
   "source": [
    "import matplotlib.pyplot as plt"
   ]
  },
  {
   "cell_type": "code",
   "execution_count": 6,
   "id": "b604b89b",
   "metadata": {},
   "outputs": [
    {
     "data": {
      "text/plain": [
       "'3.4.2'"
      ]
     },
     "execution_count": 6,
     "metadata": {},
     "output_type": "execute_result"
    }
   ],
   "source": [
    "import cv2\n",
    "cv2.__version__"
   ]
  },
  {
   "cell_type": "code",
   "execution_count": 7,
   "id": "ff2b38e1",
   "metadata": {},
   "outputs": [],
   "source": [
    "from os import listdir\n",
    "from os.path import isfile, join\n",
    "import numpy\n",
    "import cv2\n",
    "mypath=\"C:\\\\Users\\\\USER\\\\data_waffle\"\n",
    "onlyfiles = [f for f in listdir(mypath) if isfile(join(mypath, f))]\n",
    "images_waffle = numpy.empty(len(onlyfiles), dtype=object)\n",
    "for n in range(0, len(onlyfiles)):\n",
    "    images_waffle[n] = cv2.imread(join(mypath, onlyfiles[n]), cv2.IMREAD_COLOR)\n",
    "import glob    \n",
    "for i in range(len(images_waffle)):\n",
    "    b, g, r = cv2.split(images_waffle[i])\n",
    "    images_waffle[i] = cv2.merge([r, g, b])"
   ]
  },
  {
   "cell_type": "code",
   "execution_count": 8,
   "id": "7e8c3083",
   "metadata": {},
   "outputs": [],
   "source": [
    "mypath=\"C:\\\\Users\\\\USER\\\\data_macarons\"\n",
    "onlyfiles = [f for f in listdir(mypath) if isfile(join(mypath, f))]\n",
    "images_macarons = numpy.empty(len(onlyfiles), dtype=object)\n",
    "for n in range(0, len(onlyfiles)):\n",
    "    images_macarons[n] = cv2.imread(join(mypath, onlyfiles[n]), cv2.IMREAD_COLOR)"
   ]
  },
  {
   "cell_type": "code",
   "execution_count": 9,
   "id": "956d4125",
   "metadata": {
    "scrolled": true
   },
   "outputs": [],
   "source": [
    "waffle_reshape = images_waffle\n",
    "for i in range(len(images_waffle)):\n",
    "    waffle_reshape[i] = cv2.resize(images_waffle[i], dsize=(50, 50), interpolation=cv2.INTER_AREA)\n"
   ]
  },
  {
   "cell_type": "code",
   "execution_count": 10,
   "id": "6b4321be",
   "metadata": {},
   "outputs": [],
   "source": [
    "macarons_reshape = images_macarons\n",
    "for i in range(len(images_macarons)):\n",
    "    macarons_reshape[i] = cv2.resize(images_macarons[i], dsize=(50, 50), interpolation=cv2.INTER_AREA)\n"
   ]
  },
  {
   "cell_type": "code",
   "execution_count": 11,
   "id": "34a4498a",
   "metadata": {},
   "outputs": [
    {
     "name": "stdout",
     "output_type": "stream",
     "text": [
      "200\n"
     ]
    }
   ],
   "source": [
    "waffle_train = waffle_reshape[:800]\n",
    "waffle_test = waffle_reshape[800:]\n",
    "print(len(waffle_test))"
   ]
  },
  {
   "cell_type": "code",
   "execution_count": 12,
   "id": "151acd1e",
   "metadata": {},
   "outputs": [
    {
     "name": "stdout",
     "output_type": "stream",
     "text": [
      "200\n"
     ]
    }
   ],
   "source": [
    "macarons_train = macarons_reshape[:800]\n",
    "macarons_test = macarons_reshape[800:]\n",
    "print(len(macarons_test))"
   ]
  },
  {
   "cell_type": "code",
   "execution_count": 13,
   "id": "2a1ccdbe",
   "metadata": {},
   "outputs": [],
   "source": [
    "import numpy as np\n",
    "train_data = np.concatenate((waffle_train, macarons_train))\n",
    "test_data = np.concatenate((waffle_test, macarons_test))\n"
   ]
  },
  {
   "cell_type": "code",
   "execution_count": 14,
   "id": "ebf484e9",
   "metadata": {},
   "outputs": [],
   "source": [
    "\n",
    "train_label = [True for _ in range(800)] + [False for _ in range(800)]\n",
    "test_label = [True for _ in range(200)] + [False for _ in range(200)]\n",
    "train_label_np = np.asarray(train_label)\n",
    "test_label_np = np.asarray(test_label)\n",
    "train_data_np = np.asarray(train_data)\n",
    "test_data_np = np.asarray(test_data)"
   ]
  },
  {
   "cell_type": "code",
   "execution_count": 15,
   "id": "9d8dba16",
   "metadata": {
    "scrolled": true
   },
   "outputs": [],
   "source": [
    "train_data_np_f = np.asarray([dataset.flatten() for dataset in train_data_np])\n",
    "test_data_np_f = np.asarray([dataset.flatten() for dataset in test_data_np])\n"
   ]
  },
  {
   "cell_type": "code",
   "execution_count": 28,
   "id": "c1341a13",
   "metadata": {},
   "outputs": [
    {
     "data": {
      "text/plain": [
       "(7500,)"
      ]
     },
     "execution_count": 28,
     "metadata": {},
     "output_type": "execute_result"
    }
   ],
   "source": [
    "import pandas as pd\n",
    "train_data_np_f_pd = pd.DataFrame(train_data_np_f)\n",
    "train_data_np_f_pd\n",
    "train_data_np_f[0].shape"
   ]
  },
  {
   "cell_type": "code",
   "execution_count": 14,
   "id": "1584ebdc",
   "metadata": {
    "scrolled": true
   },
   "outputs": [
    {
     "name": "stdout",
     "output_type": "stream",
     "text": [
      "예측 정확도: 0.9325\n"
     ]
    }
   ],
   "source": [
    "from sklearn.linear_model import SGDClassifier\n",
    "\n",
    "sgd_clf = SGDClassifier(max_iter=1000, tol=1e-3, random_state=42)\n",
    "sgd_clf.fit(train_data_np_f, train_label_np)\n",
    "sgd_pred=sgd_clf.predict(test_data_np_f)\n",
    "from sklearn.metrics import accuracy_score\n",
    "print('예측 정확도: {0:.4f}'.format(accuracy_score(test_label_np,sgd_pred)))"
   ]
  },
  {
   "cell_type": "code",
   "execution_count": 15,
   "id": "553214e2",
   "metadata": {},
   "outputs": [
    {
     "data": {
      "text/plain": [
       "array([0.97565543, 0.96998124, 0.98123827])"
      ]
     },
     "execution_count": 15,
     "metadata": {},
     "output_type": "execute_result"
    }
   ],
   "source": [
    "from sklearn.model_selection import cross_val_score\n",
    "cross_val_score(sgd_clf, train_data_np_f, train_label_np, cv=3, scoring=\"accuracy\")\n"
   ]
  },
  {
   "cell_type": "code",
   "execution_count": 160,
   "id": "a0813164",
   "metadata": {},
   "outputs": [],
   "source": [
    "from sklearn.tree import DecisionTreeClassifier\n",
    "dt_clf = DecisionTreeClassifier(random_state=42)"
   ]
  },
  {
   "cell_type": "code",
   "execution_count": 161,
   "id": "5a40436d",
   "metadata": {},
   "outputs": [
    {
     "data": {
      "text/plain": [
       "DecisionTreeClassifier(random_state=42)"
      ]
     },
     "execution_count": 161,
     "metadata": {},
     "output_type": "execute_result"
    }
   ],
   "source": [
    "dt_clf.fit(train_data_np_f, train_label_np)"
   ]
  },
  {
   "cell_type": "code",
   "execution_count": 162,
   "id": "b172d27b",
   "metadata": {},
   "outputs": [
    {
     "name": "stdout",
     "output_type": "stream",
     "text": [
      "예측 정확도: 0.8775\n"
     ]
    }
   ],
   "source": [
    "pred = dt_clf.predict(test_data_np_f)\n",
    "\n",
    "from sklearn.metrics import accuracy_score\n",
    "print('예측 정확도: {0:.4f}'.format(accuracy_score(test_label_np,pred)))"
   ]
  },
  {
   "cell_type": "code",
   "execution_count": 163,
   "id": "e31a14da",
   "metadata": {},
   "outputs": [
    {
     "data": {
      "text/plain": [
       "array([0.87078652, 0.85365854, 0.86116323])"
      ]
     },
     "execution_count": 163,
     "metadata": {},
     "output_type": "execute_result"
    }
   ],
   "source": [
    "dt_clf_cross=cross_val_score(dt_clf, train_data_np_f, train_label_np, cv=3, scoring=\"accuracy\")\n",
    "dt_clf_cross\n"
   ]
  },
  {
   "cell_type": "code",
   "execution_count": 164,
   "id": "ff675507",
   "metadata": {},
   "outputs": [],
   "source": [
    "from graphviz import Source\n",
    "from graphviz import render\n",
    "\n",
    "from sklearn.tree import export_graphviz\n",
    "import os\n",
    "\n",
    "%matplotlib inline\n",
    "import matplotlib as mpl\n",
    "import matplotlib.pyplot as plt\n",
    "mpl.rc('axes', labelsize=14)\n",
    "mpl.rc('xtick', labelsize=12)\n",
    "mpl.rc('ytick', labelsize=12)\n",
    "\n",
    "PROJECT_ROOT_DIR = \".\"\n",
    "CHAPTER_ID = \"desert_trees\"\n",
    "IMAGES_PATH = os.path.join(PROJECT_ROOT_DIR, \"d_images\", CHAPTER_ID)\n",
    "os.makedirs(IMAGES_PATH, exist_ok=True)\n",
    "\n",
    "def save_fig(fig_id, tight_layout=True, fig_extension=\"png\", resolution=300):\n",
    "    path = os.path.join(IMAGES_PATH, fig_id + \".\" + fig_extension)\n",
    "    print(\"Saving figure\", fig_id)\n",
    "    if tight_layout:\n",
    "        plt.tight_layout()\n",
    "    plt.savefig(path, format=fig_extension, dpi=resolution)\n",
    "    \n",
    "export_graphviz(\n",
    "        dt_clf,\n",
    "        out_file=os.path.join(IMAGES_PATH, \"desert_tree.dot\"),\n",
    "        class_names=['True','False, NONE'],\n",
    "        rounded=True,\n",
    "        filled=True\n",
    "    )\n",
    "\n",
    "gr=Source.from_file(os.path.join(IMAGES_PATH, \"desert_tree.dot\"))\n",
    "\n"
   ]
  },
  {
   "cell_type": "code",
   "execution_count": 165,
   "id": "07f91f85",
   "metadata": {},
   "outputs": [
    {
     "data": {
      "text/plain": [
       "'test3.pdf'"
      ]
     },
     "execution_count": 165,
     "metadata": {},
     "output_type": "execute_result"
    }
   ],
   "source": [
    "\n",
    "gr.render('test3', view=True)  "
   ]
  },
  {
   "cell_type": "code",
   "execution_count": 59,
   "id": "6f23aa4d",
   "metadata": {},
   "outputs": [],
   "source": [
    "from sklearn.ensemble import RandomForestClassifier, ExtraTreesClassifier\n",
    "from sklearn.svm import LinearSVC\n"
   ]
  },
  {
   "cell_type": "code",
   "execution_count": 67,
   "id": "9e78f6d5",
   "metadata": {},
   "outputs": [],
   "source": [
    "random_forest_clf = RandomForestClassifier(n_estimators=100, random_state=42)\n",
    "svm_clf = LinearSVC(max_iter=100, tol=20, random_state=42)"
   ]
  },
  {
   "cell_type": "code",
   "execution_count": 69,
   "id": "abb63654",
   "metadata": {},
   "outputs": [
    {
     "name": "stdout",
     "output_type": "stream",
     "text": [
      "Training the RandomForestClassifier(random_state=42)\n",
      "Training the DecisionTreeClassifier(random_state=42)\n",
      "Training the LinearSVC(max_iter=100, random_state=42, tol=20)\n",
      "Training the SGDClassifier(random_state=42)\n"
     ]
    }
   ],
   "source": [
    "estimators = [random_forest_clf, dt_clf, svm_clf, sgd_clf]\n",
    "\n",
    "for estimator in estimators:\n",
    "    print(\"Training the\", estimator)\n",
    "    estimator.fit(train_data_np_f, train_label_np)"
   ]
  },
  {
   "cell_type": "code",
   "execution_count": 70,
   "id": "2dd5d0a9",
   "metadata": {},
   "outputs": [
    {
     "data": {
      "text/plain": [
       "[0.9675, 0.8775, 0.96, 0.9325]"
      ]
     },
     "execution_count": 70,
     "metadata": {},
     "output_type": "execute_result"
    }
   ],
   "source": [
    "[estimator.score(test_data_np_f, test_label_np) for estimator in estimators]"
   ]
  },
  {
   "cell_type": "code",
   "execution_count": 172,
   "id": "99a48a64",
   "metadata": {},
   "outputs": [],
   "source": [
    "from sklearn.ensemble import VotingClassifier\n",
    "named_estimators = [\n",
    "    (\"random_forest_clf\", random_forest_clf),\n",
    "    (\"decision_trees_clf\", dt_clf),\n",
    "    (\"svm_clf\", svm_clf),\n",
    "    (\"sgd_clf\", sgd_clf),\n",
    "]\n",
    "voting_clf = VotingClassifier(named_estimators,voting='hard')"
   ]
  },
  {
   "cell_type": "code",
   "execution_count": 173,
   "id": "5db32a0b",
   "metadata": {},
   "outputs": [
    {
     "data": {
      "text/plain": [
       "VotingClassifier(estimators=[('random_forest_clf',\n",
       "                              RandomForestClassifier(random_state=42)),\n",
       "                             ('decision_trees_clf',\n",
       "                              DecisionTreeClassifier(random_state=42)),\n",
       "                             ('svm_clf',\n",
       "                              LinearSVC(max_iter=100, random_state=42, tol=20)),\n",
       "                             ('sgd_clf', SGDClassifier(random_state=42))])"
      ]
     },
     "execution_count": 173,
     "metadata": {},
     "output_type": "execute_result"
    }
   ],
   "source": [
    "voting_clf.fit(train_data_np_f, train_label_np)"
   ]
  },
  {
   "cell_type": "code",
   "execution_count": 147,
   "id": "614ad713",
   "metadata": {},
   "outputs": [
    {
     "data": {
      "text/plain": [
       "[0.9675, 0.8775, 0.96, 0.9325]"
      ]
     },
     "execution_count": 147,
     "metadata": {},
     "output_type": "execute_result"
    }
   ],
   "source": [
    "[estimator.score(test_data_np_f, test_label_np) for estimator in voting_clf.estimators_]"
   ]
  },
  {
   "cell_type": "code",
   "execution_count": 167,
   "id": "c2eb79dc",
   "metadata": {},
   "outputs": [
    {
     "data": {
      "text/plain": [
       "0.9725"
      ]
     },
     "execution_count": 167,
     "metadata": {},
     "output_type": "execute_result"
    }
   ],
   "source": [
    "voting_clf.score(test_data_np_f, test_label_np)"
   ]
  },
  {
   "cell_type": "code",
   "execution_count": 168,
   "id": "c2e5a7a4",
   "metadata": {},
   "outputs": [],
   "source": [
    "voting_clf.voting = \"soft\""
   ]
  },
  {
   "cell_type": "code",
   "execution_count": 170,
   "id": "81ad02e1",
   "metadata": {},
   "outputs": [
    {
     "data": {
      "text/plain": [
       "VotingClassifier(estimators=[('random_forest_clf',\n",
       "                              RandomForestClassifier(random_state=42)),\n",
       "                             ('decision_trees_clf',\n",
       "                              DecisionTreeClassifier(random_state=42)),\n",
       "                             ('svm_clf',\n",
       "                              LinearSVC(max_iter=100, random_state=42, tol=20)),\n",
       "                             ('sgd_clf', SGDClassifier(random_state=42))],\n",
       "                 voting='soft')"
      ]
     },
     "execution_count": 170,
     "metadata": {},
     "output_type": "execute_result"
    }
   ],
   "source": [
    "voting_clf"
   ]
  }
 ],
 "metadata": {
  "kernelspec": {
   "display_name": "Python 3",
   "language": "python",
   "name": "python3"
  },
  "language_info": {
   "codemirror_mode": {
    "name": "ipython",
    "version": 3
   },
   "file_extension": ".py",
   "mimetype": "text/x-python",
   "name": "python",
   "nbconvert_exporter": "python",
   "pygments_lexer": "ipython3",
   "version": "3.7.10"
  }
 },
 "nbformat": 4,
 "nbformat_minor": 5
}
